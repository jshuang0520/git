{
 "cells": [
  {
   "cell_type": "markdown",
   "metadata": {},
   "source": [
    "## Git -基本知識\n",
    "\n",
    "https://medium.com/@weilihmen/git-%E5%9F%BA%E6%9C%AC%E7%9F%A5%E8%AD%98-from-alpha-camp-5c9ef85cf825"
   ]
  },
  {
   "cell_type": "code",
   "execution_count": null,
   "metadata": {},
   "outputs": [],
   "source": []
  },
  {
   "cell_type": "markdown",
   "metadata": {},
   "source": [
    "## [git workflow](https://medium.com/@talgoldfus/better-understanding-gits-work-flow-in-order-to-properly-deal-with-merge-conflicts-part-i-760a366fc997)\n",
    "\n",
    "![img1](https://miro.medium.com/proxy/0*psCSE-BxW3zn4Ya1.png)"
   ]
  },
  {
   "cell_type": "markdown",
   "metadata": {},
   "source": [
    "## git是最受歡迎的版本紀錄軟體\n",
    "\n",
    "功能包含\n",
    "\n",
    "1. 紀錄檔案的內容更動\n",
    "\n",
    "1. 追蹤修改的內容與修改者\n",
    "\n",
    "1. 保留歷史紀錄，了解專案脈絡\n",
    "\n",
    "1. 支援本地和遠端版本控制\n",
    "\n",
    "1. 可以還原成舊有版本\n"
   ]
  },
  {
   "cell_type": "markdown",
   "metadata": {},
   "source": [
    "git我認為最難的是概念\n",
    "\n",
    "主要有三個概念，\n",
    "\n",
    "1. 第一是<font color=\"red\">提交流程</font>，就是工作區(workspace)=>暫存區(index)=>儲存庫(Repository)\n",
    "\n",
    "1. 第二個是<font color=\"red\">分支(branch)</font>，開始比較正式或結構清楚的專案時，往往都會依賴branch的功能來達成多人協作。\n",
    "\n",
    "1. 第三個是<font color=\"red\">遠端庫(remote)</font>，協作的時候通常會仰賴遠端庫的協助，把寫完的推進遠端庫(push)，然後再把人家更新的內容拉回本機端(pull)。"
   ]
  },
  {
   "cell_type": "code",
   "execution_count": null,
   "metadata": {},
   "outputs": [],
   "source": []
  },
  {
   "cell_type": "markdown",
   "metadata": {},
   "source": [
    "## 概念一：提交流程\n",
    "\n",
    "先參考[這篇](https://read01.com/zh-tw/mA2G2E.html)"
   ]
  },
  {
   "cell_type": "markdown",
   "metadata": {},
   "source": [
    "## 工作區(Working Directory) : 本機檔案  \n",
    "\n",
    "## 暫存區(Staging Area) : \n",
    "\n",
    "在你提交給正式版本之前，你的檔案必須先經過給暫存區．\n",
    "\n",
    "之所以要有暫存區，原因有很多個，譬如說git是紀錄檔案的修改，而不是真正儲存完整檔案，所以透過staging這個動作，可以讓git追蹤檔案。此外，在提交給儲存庫的時候，可以分檔案提交...等等。\n",
    "\n",
    "## 儲存庫(Repository) : 提交的正式版本"
   ]
  },
  {
   "cell_type": "markdown",
   "metadata": {},
   "source": [
    "![img2](https://miro.medium.com/max/1600/0*oI3GEp6rKGquZbWD.png)"
   ]
  },
  {
   "cell_type": "markdown",
   "metadata": {},
   "source": [
    "    git status  #查詢更動過的內容\n",
    "    git add [檔案名] #把有更動過的檔案加入暫存區\n",
    "    git add .  #把所有檔案加入暫存區\n",
    "    git commit  #建立版本紀錄節點\n",
    "    git commit -m \"備註\" #建立節點(直接輸入紀錄版本的備註)"
   ]
  },
  {
   "cell_type": "markdown",
   "metadata": {},
   "source": [
    "這個是最基本的操作\n",
    "\n",
    "參考最上面的圖及[下面連結](https://ithelp.ithome.com.tw/articles/10133221)"
   ]
  },
  {
   "cell_type": "markdown",
   "metadata": {},
   "source": [
    "    git diff  #比對的是「已經修改但還沒進入staging area的內容」\n",
    "    \n",
    "    git diff - -cached  #比對的是「staging area與當前版本的差異內容」\n",
    "    \n",
    "    剩下的話，可以用git diff +版本，比對特定版本與當前的差異\n",
    "    譬如說 git diff HEAD，其實就是上述兩個指令相加的內容"
   ]
  },
  {
   "cell_type": "markdown",
   "metadata": {},
   "source": [
    "要比較程式碼的差異，就要用diff指令\n",
    "\n",
    "[連結1](https://ithelp.ithome.com.tw/articles/10135441)\n",
    "\n",
    "[連結2](http://gitbook.liuhui998.com/3_5.html)\n"
   ]
  },
  {
   "cell_type": "code",
   "execution_count": null,
   "metadata": {},
   "outputs": [],
   "source": []
  },
  {
   "cell_type": "markdown",
   "metadata": {},
   "source": [
    "## rollback的操作的部分，也就是版本回朔\n",
    "\n",
    "    git reset\n",
    "    \n",
    "> 一般來說比較常用的是reset，因為revert會新增一個版本紀錄，因為只有少數的特例，你才需要把錯誤的版本繼續留在紀錄中。\n",
    "\n",
    "> reset 很簡單，但是要記住有三種運用方式(也就是option)\n",
    "\n",
    "> -- hard 直接重置特定版本的紀錄，可能會影響到你目前的工作態度。(換句話說，就是最hardcore的重置)\n",
    "\n",
    "> --soft 不會更動到你目前的檔案，但是會退回staging area(就像是做完git add . 的狀態)，用途有兩種，第一種就是打錯commit comment；第二種就是想要合併多個連續commit，把頻繁的修改合併成同一個commit。\n",
    "\n",
    "> --mixed 也不會更動檔案，會退回working directory(也就是還沒有git add之前)。\n",
    "\n",
    "- 如果不小心reset --hard錯了也沒關係，要記得git reflog這個好物，git 版控是很靈活的，他不會因為你reset --hard就把原本新的紀錄刪掉，而只是把你目前的HEAD指向你去的那個版本，而原本新的紀錄還留著，只是你看不到(預設git log只會回朔，不會到未來)\n",
    "\n",
    "    ---\n",
    "    git revert"
   ]
  },
  {
   "cell_type": "markdown",
   "metadata": {},
   "source": [
    "![img3](https://miro.medium.com/max/1422/1*6oxfKOwNAxud_VNIDzxgOw.png)"
   ]
  },
  {
   "cell_type": "markdown",
   "metadata": {},
   "source": [
    "https://www.liaoxuefeng.com/wiki/0013739516305929606dd18361248578c67b8067c8c017b000/0013744142037508cf42e51debf49668810645e02887691000\n",
    "    \n",
    "\n",
    "https://github.com/geeeeeeeeek/git-recipes/wiki/5.2-%E4%BB%A3%E7%A0%81%E5%9B%9E%E6%BB%9A%EF%BC%9AReset%E3%80%81Checkout%E3%80%81Revert-%E7%9A%84%E9%80%89%E6%8B%A9\n",
    "\n",
    "\n",
    "https://dotblogs.com.tw/wasichris/2016/04/29/225157"
   ]
  },
  {
   "cell_type": "code",
   "execution_count": null,
   "metadata": {},
   "outputs": [],
   "source": []
  },
  {
   "cell_type": "markdown",
   "metadata": {},
   "source": [
    "## 概念二：分支\n",
    "\n",
    "分支是協作的好物。\n",
    "\n",
    "有些協作的過程會利用分支，來分成主要版本、開發版本、新功能等等類別，參考[下列連結](https://gogojimmy.net/2012/01/21/how-to-use-git-2-basic-usage-and-worflow/)"
   ]
  },
  {
   "cell_type": "markdown",
   "metadata": {},
   "source": [
    "    git branch iss53    #開一個名為iss53的分支\n",
    "    git checkout iss53  #切換到iss53這個分支\n",
    "         ...(然後在iss53增加一些commit紀錄)...\n",
    "    git checkout master #再切回到master\n",
    "    git merge iss53     #把iss53內容合併到master"
   ]
  },
  {
   "cell_type": "markdown",
   "metadata": {},
   "source": [
    "困難的是多頭馬車一起拉，譬如A分支往前推進了好幾個紀錄、B分支往前推進了好幾個紀錄，然後要把B合併到A，就會有一些重複修改的程式碼，或者同時改了不一樣的程式碼，就會產生衝突。\n",
    "以下這篇很詳細，可以[參考](https://gogojimmy.net/2012/01/21/how-to-use-git-2-basic-usage-and-worflow/)"
   ]
  },
  {
   "cell_type": "code",
   "execution_count": null,
   "metadata": {},
   "outputs": [],
   "source": []
  },
  {
   "cell_type": "code",
   "execution_count": null,
   "metadata": {},
   "outputs": [],
   "source": []
  },
  {
   "cell_type": "markdown",
   "metadata": {},
   "source": [
    "## 概念三：遠端庫\n",
    "\n",
    "遠端庫是很方便的，譬如你想要在多台電腦上做同一個專案，這個時候只要輸一些指令，就可以很快的同步資料。而多人協作更不用說了，是一定要有一個遠端庫來讓每個人可以各自用自己的電腦來做同一個專案。\n",
    "\n",
    "[連結](https://backlog.com/git-tutorial/tw/reference/remote.html)"
   ]
  },
  {
   "cell_type": "markdown",
   "metadata": {},
   "source": [
    "最常用的免費遠端庫包含github與bitbucket\n",
    "\n",
    "兩個都滿好用的，在視覺化與使用引導上都很清楚\n",
    "\n",
    "基本上的步驟就是 <font color=\"red\">\"設定Remote\"->\"PULL\"->\"PUSH\"</font>\n",
    "\n",
    "PULL指的是把遠端庫的東西拉回本機端\n",
    "\n",
    "PUSH指的是把本機端的東西推到遠端庫\n",
    "\n",
    "    另外，要注意的是PULL另一個用法是FETCH\n",
    "    PULL會把遠端的內容直接併進(MERGE)本機端\n",
    "    FETCH則不會做MERGE，由你自己決定動作。\n",
    "\n",
    "(更簡單來說，<font color=\"red\">PULL = FETCH + MERGE)</font>"
   ]
  },
  {
   "cell_type": "code",
   "execution_count": null,
   "metadata": {},
   "outputs": [],
   "source": []
  },
  {
   "cell_type": "markdown",
   "metadata": {},
   "source": [
    "## 當 branch 想要 merge 回 master"
   ]
  },
  {
   "cell_type": "markdown",
   "metadata": {},
   "source": [
    "## [What is the best (and safest) way to merge a Git branch into master?](https://stackoverflow.com/questions/5601931/what-is-the-best-and-safest-way-to-merge-a-git-branch-into-master)\n",
    "\n",
    "    git checkout master\n",
    "    git pull origin master\n",
    "    git merge test\n",
    "    git push origin master"
   ]
  },
  {
   "cell_type": "code",
   "execution_count": null,
   "metadata": {},
   "outputs": [],
   "source": [
    "# < pyenv >\n",
    "\n",
    "# https://learningsky.io/python-development-on-macos-with-pyenv-virtualenv/\n",
    "# https://codertw.com/%E7%A8%8B%E5%BC%8F%E8%AA%9E%E8%A8%80/700508/\n",
    "\n",
    "# https://aji.tw/pyenv-python%E8%99%9B%E6%93%AC%E7%92%B0%E5%A2%83%E7%B5%95%E4%BD%B3%E5%88%A9%E5%99%A8/\n",
    "# pyenv 從安裝到使用基本上可以說是非常無腦\n",
    "# 好用到幾乎沒有學習曲線\n",
    "# 而我最常用到的指令不過有就以下三個\n",
    "pyenv install \n",
    "pyenv virtualenv \n",
    "pyenv local\n",
    "\n",
    "# 設定環境變數\n",
    "PATH=\"$HOME/.pyenv/bin:$PATH\"\n",
    "eval \"$(pyenv init -)\"\n",
    "eval \"$(pyenv virtualenv-init -)\"\n",
    "#如果您是使用 bash 請把以上三行貼到 ~/.bashrc\n",
    "#若是使用 zsh 則是貼到 ~/.zshrc\n",
    "\n",
    "#注意： 若是在 OS X 下使用 bash，記得是要貼到 ~/.bash_profile 而不是 ~/.bashrc 喔！\n",
    "#接者， 重新啟動shell\n",
    "exec $SHELL\n",
    "\n",
    "\n",
    "\n",
    "\n",
    "\n",
    "\n",
    "\n",
    "\n",
    "\n",
    "# pyenv 設定連動\n",
    "pyenv virtualenv 3.6.8 scooter-dispense-env\n",
    "\n",
    "pyenv versions\n",
    "\n",
    "\n",
    "===\n",
    "\n",
    "# < git >\n",
    "# git workflow\n",
    "# https://medium.com/@weilihmen/git-%E5%9F%BA%E6%9C%AC%E7%9F%A5%E8%AD%98-from-alpha-camp-5c9ef85cf825\n",
    "\n",
    "# 參考網站： https://oawan.me/2016/all-about-git-command/\n",
    "\n",
    "# git clone: 複製專案資料夾下來\n",
    "git clone git@10.0.1.31:ML/scooter-dispense.git\n",
    "\n",
    "pyenv versions\n",
    "pyenv local scooter-dispense-env\n",
    "\n",
    "\n",
    "# 開branch\n",
    "git branch multithread\n",
    "\n",
    "# 切換分支 ( checkout )\n",
    "git checkout\n",
    "ex. git checkout multithread\n",
    "\n",
    "# 列出所有branch，也確定自己現在在哪個branch\n",
    "git branch -al\n",
    "\n",
    "# 顯示修改檔案清單 ( status )\n",
    "git stautus\n",
    "\n",
    "\n",
    "cd scooter-dispense_backup\n",
    "ls\n",
    "# copy files (from folder1 to folder2)\n",
    "cp ../scooter-dispense_backup/2019.12.19/exec_split_file_20191219v1.py .\n",
    "cp ../scooter-dispense_backup/2019.12.19/*_20191219v1.py .\n",
    "# rename files\n",
    "mv exec_split_file_20191219v1.py exec_split_file.py\n",
    "mv merge_logger_20191219v1.py merge_logger.py\n",
    "\n",
    "# 因為剛剛copy過來的檔案改名了，所以修改一下.sh裡面的內容（執行的程式名稱改成新的名稱而已啦）\n",
    "vim script.sh\n",
    "\n",
    "\n",
    "\n",
    "# 將檔案加入索引 ( add )\n",
    "git add <file>... \n",
    "ex. git add exec_split_file.py\n",
    "#git add .  可以將當前目錄下的所有修改檔案加入索引\n",
    "\n",
    "#---\n",
    "# 還原已修改檔案 ( checkout – )\n",
    "git checkout -- <file>\n",
    "#---\n",
    "\n",
    "\n",
    "# 提交檔案 ( commit )\n",
    "git commit\n",
    "# -m <message>：訊息提交\n",
    "# --amend <message>：修改上一次 commit 內容\n",
    "\n",
    "# 上傳(或更新)本地端分支\n",
    "git push\n",
    "ex. git push origin -u multithread\n",
    "\n",
    "\n",
    "git branch -al\n",
    "git status\n",
    "\n",
    "cp ../scooter-dispense-copy/requirements.txt .\n",
    "vim requirements.txt\n",
    "\n",
    "# 查看修改前後的差異\n",
    "git diff requirements.txt\n",
    "git checkout requirements.txt\n",
    "\n",
    "#---\n",
    "# 合併(或更新)遠端至本地端分支\n",
    "git pull\n",
    "\n",
    "# 顯示提交紀錄 ( log )\n",
    "git log\n",
    "#---\n",
    "\n",
    "\n",
    "==================================\n",
    "\n",
    "# clone repositary\n",
    "git clone https://github.com/jshuang0520/git.git\n",
    "\n",
    "# change direction to the folder\n",
    "cd git\n",
    "\n",
    "# to make a new branch\n",
    "git branch practice_branch\n",
    "\n",
    "# switch to that branch\n",
    "git checkout practice_branch\n",
    "\n",
    "# check all the branches, and to ensure you switched to the branch\n",
    "git branch -al\n",
    "\n",
    "# check unsaved changes (not yet pushed to git)\n",
    "git status\n",
    "\n",
    "# add the file you want to commit and push to git repository\n",
    "git add git_manipulation.ipynb\n",
    "\n",
    "# commit\n",
    "git commit\n",
    "\n",
    "# push to the branch\n",
    "git push -u practice_branch\n",
    "\n",
    "\n",
    "# What is the best (and safest) way to merge a Git branch into master?\n",
    "git checkout master\n",
    "git pull origin master\n",
    "git merge test\n",
    "git push origin master\n",
    "\n",
    "\n",
    "-----------------------\n",
    "\n",
    "\n",
    "cp ./pyenv_git.txt ../git\n",
    "git add .\n",
    "git commit -m \"new version\"\n",
    "git push origin -u practice_branch\n",
    "\n",
    "\n"
   ]
  },
  {
   "cell_type": "code",
   "execution_count": null,
   "metadata": {},
   "outputs": [],
   "source": []
  }
 ],
 "metadata": {
  "kernelspec": {
   "display_name": "Python 3",
   "language": "python",
   "name": "python3"
  },
  "language_info": {
   "codemirror_mode": {
    "name": "ipython",
    "version": 3
   },
   "file_extension": ".py",
   "mimetype": "text/x-python",
   "name": "python",
   "nbconvert_exporter": "python",
   "pygments_lexer": "ipython3",
   "version": "3.6.5"
  }
 },
 "nbformat": 4,
 "nbformat_minor": 2
}
